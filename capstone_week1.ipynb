{
 "cells": [
  {
   "cell_type": "markdown",
   "id": "832205a5",
   "metadata": {},
   "source": [
    "# Capstone Project - The Battle of Neighborhoods (Week 1)"
   ]
  },
  {
   "cell_type": "markdown",
   "id": "62cf314a",
   "metadata": {},
   "source": [
    "### Introduction / Business Problem"
   ]
  },
  {
   "cell_type": "markdown",
   "id": "c1a18cec",
   "metadata": {},
   "source": [
    "I will build the delivery app for customers.<br>\n",
    "When I go home after work, I want to deliver food to the house and pack the food to the house through a shopping cart or driving through.</br>\n"
   ]
  },
  {
   "cell_type": "code",
   "execution_count": null,
   "id": "570ecde4",
   "metadata": {},
   "outputs": [],
   "source": []
  }
 ],
 "metadata": {
  "kernelspec": {
   "display_name": "Python",
   "language": "python",
   "name": "conda-env-python-py"
  },
  "language_info": {
   "codemirror_mode": {
    "name": "ipython",
    "version": 3
   },
   "file_extension": ".py",
   "mimetype": "text/x-python",
   "name": "python",
   "nbconvert_exporter": "python",
   "pygments_lexer": "ipython3",
   "version": "3.6.13"
  }
 },
 "nbformat": 4,
 "nbformat_minor": 5
}
